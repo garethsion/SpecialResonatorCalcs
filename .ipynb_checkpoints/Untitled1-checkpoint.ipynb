{
 "cells": [
  {
   "cell_type": "code",
   "execution_count": 6,
   "metadata": {
    "collapsed": true
   },
   "outputs": [],
   "source": [
    "#!/usr/bin/env python \n",
    "import numpy as np\n",
    "from scipy import constants as sp\n",
    "from process_data import SetParams\n",
    "\n",
    "class PostProcData2:\n",
    "    def __init__(self):\n",
    "        setp = SetParams.SetParams()\n",
    "        params = setp.set_params()\n",
    "        self.w = params[\"w\"]\n",
    "        self.t = params[\"t\"]\n",
    "        self.l = params[\"l\"]\n",
    "        self.pen = params[\"pen\"]\n",
    "\n",
    "        #define the resonator - from CST or experiment\n",
    "        self.omega = params[\"omega\"]\n",
    "        self.Z = params[\"Z\"]\n",
    "            \t\n",
    "    def single_spin_coupling(self,Bx,By,*args,**kwargs):\n",
    "        theta = kwargs.get('theta',0)\n",
    "        ang = np.cos(theta)\n",
    "        ue = sp.physical_constants[\"Bohr magneton\"][0]\n",
    "        #g = 0.47 * ue * np.sqrt(By**2 + (ang**2) * Bx**2)\n",
    "        g = np.sqrt(By**2 + (ang**2) * Bx**2)\n",
    "        return g/sp.h\n",
    "\n",
    "    def spin_density(self,g):\n",
    "        volume = g * self.t * self.l\n",
    "        rho =  sp.m_e / volume\n",
    "        return rho\n",
    "\n"
   ]
  },
  {
   "cell_type": "code",
   "execution_count": 14,
   "metadata": {},
   "outputs": [],
   "source": [
    "#!/usr/bin/env python\n",
    "import matplotlib.pyplot as plt\n",
    "import os\n",
    "from process_data import ReadComsol\n",
    "import Plotting\n",
    "\n",
    "#read in 1d data from comsol for plotting\n",
    "bx = ReadComsol.ReadComsol('comsol_datafiles/Bx.csv')\n",
    "by = ReadComsol.ReadComsol('comsol_datafiles/By.csv')\n",
    "bn = ReadComsol.ReadComsol('comsol_datafiles/normB.csv')\n",
    "\n",
    "xx,Bx = bx.read_1D_comsol_data()\n",
    "xy,By = by.read_1D_comsol_data()\n",
    "xn,Bn = bn.read_1D_comsol_data()\n",
    "\n",
    "#centre axis about 0\n",
    "xx = xx - max(xx)/2\n",
    "xy = xy - max(xy)/2\n",
    "xn = xn - max(xn)/2\n",
    "\n",
    "#calcualte single spin couplinng coefficient\n",
    "pp_0 = PostProcData2()\n",
    "g_0 = pp.single_spin_coupling(Bx,By)\n",
    "\n",
    "pp_20 = PostProcData2()\n",
    "g_20 = pp.single_spin_coupling(Bx,By,20)\n",
    "\n",
    "\n",
    "# rho = pp.spin_density(g)\n",
    "# rho = rho / sum(rho)"
   ]
  },
  {
   "cell_type": "code",
   "execution_count": 18,
   "metadata": {},
   "outputs": [
    {
     "data": {
      "text/plain": [
       "0.0"
      ]
     },
     "execution_count": 18,
     "metadata": {},
     "output_type": "execute_result"
    }
   ],
   "source": [
    "max(g_0 - g_20)"
   ]
  },
  {
   "cell_type": "code",
   "execution_count": 13,
   "metadata": {},
   "outputs": [
    {
     "ename": "NameError",
     "evalue": "name 'ue' is not defined",
     "output_type": "error",
     "traceback": [
      "\u001b[0;31m---------------------------------------------------------------------------\u001b[0m",
      "\u001b[0;31mNameError\u001b[0m                                 Traceback (most recent call last)",
      "\u001b[0;32m<ipython-input-13-c58c8d190eb3>\u001b[0m in \u001b[0;36m<module>\u001b[0;34m()\u001b[0m\n\u001b[0;32m----> 1\u001b[0;31m \u001b[0mg\u001b[0m \u001b[0;34m=\u001b[0m \u001b[0;36m0.47\u001b[0m \u001b[0;34m*\u001b[0m \u001b[0mue\u001b[0m \u001b[0;34m*\u001b[0m \u001b[0mnp\u001b[0m\u001b[0;34m.\u001b[0m\u001b[0msqrt\u001b[0m\u001b[0;34m(\u001b[0m\u001b[0mBy\u001b[0m\u001b[0;34m**\u001b[0m\u001b[0;36m2\u001b[0m \u001b[0;34m+\u001b[0m \u001b[0;34m(\u001b[0m\u001b[0mnp\u001b[0m\u001b[0;34m.\u001b[0m\u001b[0mcos\u001b[0m\u001b[0;34m(\u001b[0m\u001b[0;36m90\u001b[0m\u001b[0;34m)\u001b[0m\u001b[0;34m**\u001b[0m\u001b[0;36m2\u001b[0m\u001b[0;34m)\u001b[0m \u001b[0;34m*\u001b[0m \u001b[0mBx\u001b[0m\u001b[0;34m**\u001b[0m\u001b[0;36m2\u001b[0m\u001b[0;34m)\u001b[0m\u001b[0;34m\u001b[0m\u001b[0m\n\u001b[0m",
      "\u001b[0;31mNameError\u001b[0m: name 'ue' is not defined"
     ]
    }
   ],
   "source": []
  },
  {
   "cell_type": "code",
   "execution_count": null,
   "metadata": {
    "collapsed": true
   },
   "outputs": [],
   "source": []
  }
 ],
 "metadata": {
  "kernelspec": {
   "display_name": "Python 3",
   "language": "python",
   "name": "python3"
  },
  "language_info": {
   "codemirror_mode": {
    "name": "ipython",
    "version": 3
   },
   "file_extension": ".py",
   "mimetype": "text/x-python",
   "name": "python",
   "nbconvert_exporter": "python",
   "pygments_lexer": "ipython3",
   "version": "3.6.3"
  }
 },
 "nbformat": 4,
 "nbformat_minor": 2
}
