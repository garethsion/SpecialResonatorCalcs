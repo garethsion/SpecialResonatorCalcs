{
 "cells": [
  {
   "cell_type": "code",
   "execution_count": 19,
   "metadata": {},
   "outputs": [
    {
     "data": {
      "image/png": "[encoded data removed]",
      "text/plain": [
       "<matplotlib.figure.Figure at 0x110581128>"
      ]
     },
     "metadata": {},
     "output_type": "display_data"
    }
   ],
   "source": [
    "#!/usr/bin/env python\n",
    "from scipy import constants as sp\n",
    "import os\n",
    "import numpy as np\n",
    "import numpy.matlib\n",
    "import matplotlib.pyplot as plt\n",
    "from process_data import ReadComsol\n",
    "\n",
    "# Read data from downloads\n",
    "file_dbx = os.getcwd() + '/data_postprocess/downloads/comsol_datafiles/Bx_fullData.csv'\n",
    "file_dby = os.getcwd() + '/data_postprocess/downloads/comsol_datafiles/By_fullData.csv'\n",
    "\n",
    "rdx = ReadComsol.ReadComsol(file_dbx)\n",
    "rdy = ReadComsol.ReadComsol(file_dby)\n",
    "\n",
    "# Read csv file, and get x,y annd dbx/dby data for each\n",
    "# blocked point in space\n",
    "bx_x,bx_y,bx_z = rdx.read_full_data()\n",
    "by_x,by_y,by_z = rdy.read_full_data()\n",
    "#xax = np.linspace(float(bx_x[0]),float(bx_x[len(bx_x)-1]),len(bx_x))\n",
    "dbx = np.asarray(bx_z).astype(np.float)\n",
    "dby = np.asarray(by_z).astype(np.float)\n",
    "\n",
    "# Calculate the single spin coupling for each site each grid point\n",
    "theta = 0 # Angle the static magnetic field is applied on\n",
    "ang = np.cos(theta)\n",
    "ue = sp.physical_constants[\"Bohr magneton\"][0]\n",
    "g = [*map(lambda x,y: 0.47 * ue * np.sqrt(y**2 + x**2),dbx,dby)]\n",
    "g = np.asarray([x / sp.h for x in g])\n",
    "\n",
    "# Reshape g so we can append multiple values for each box section\n",
    "g=g.reshape(len(g),1)\n",
    "np.shape(g)\n",
    "\n",
    "# Calculate the size of the boxes\n",
    "bucket = bx_x.count(bx_x[0]) # number of samples for each point in space\n",
    "x_box = abs(float(bx_x[bucket-1]) - float(bx_x[bucket]))\n",
    "y_box = abs(float(bx_y[0]) - float(bx_y[1]))\n",
    "z_box = x_box\n",
    "volume = x_box * y_box * z_box\n",
    "\n",
    "# Calculate number of spins in each cell\n",
    "no_spins_in_box = 1e7\n",
    "Ncell = round(no_spins_in_box * volume)\n",
    "\n",
    "g = np.matlib.repmat(g, 1, Ncell)\n",
    "\n",
    "# Calculate histogram\n",
    "hist, edges = np.histogram(g, bins=250) # single spin\n",
    "hist = hist * Ncell # with 3d box\n",
    "hist = hist / sum(hist) # normalize\n",
    "edges = edges[0:len(hist)] # shift bin edges to get the same length as data\n",
    "\n",
    "\n",
    "fig = plt.figure(figsize=(6,4))\n",
    "# plt.stem(edges,hist)\n",
    "plt.bar(edges,height=hist)\n",
    "#plt.ylabel('$\\\\rho(g)$',fontsize=24)\n",
    "plt.show()\n",
    "\n",
    "# # n, bins, patches = plt.hist(x=d, bins='auto', color='#0504aa',\n",
    "# # \talpha=0.7, rwidth=0.85)"
   ]
  },
  {
   "cell_type": "code",
   "execution_count": 14,
   "metadata": {},
   "outputs": [
    {
     "data": {
      "text/plain": [
       "array([[ 17.98122397,  17.98122397,  17.98122397, ...,  17.98122397,\n",
       "         17.98122397,  17.98122397],\n",
       "       [ 18.11822457,  18.11822457,  18.11822457, ...,  18.11822457,\n",
       "         18.11822457,  18.11822457],\n",
       "       [ 18.25555656,  18.25555656,  18.25555656, ...,  18.25555656,\n",
       "         18.25555656,  18.25555656],\n",
       "       ..., \n",
       "       [ 18.2560181 ,  18.2560181 ,  18.2560181 , ...,  18.2560181 ,\n",
       "         18.2560181 ,  18.2560181 ],\n",
       "       [ 18.1201091 ,  18.1201091 ,  18.1201091 , ...,  18.1201091 ,\n",
       "         18.1201091 ,  18.1201091 ],\n",
       "       [ 17.98453456,  17.98453456,  17.98453456, ...,  17.98453456,\n",
       "         17.98453456,  17.98453456]])"
      ]
     },
     "execution_count": 14,
     "metadata": {},
     "output_type": "execute_result"
    }
   ],
   "source": [
    "g"
   ]
  },
  {
   "cell_type": "code",
   "execution_count": 15,
   "metadata": {},
   "outputs": [
    {
     "data": {
      "text/plain": [
       "10000"
      ]
     },
     "execution_count": 15,
     "metadata": {},
     "output_type": "execute_result"
    }
   ],
   "source": [
    "Ncell"
   ]
  },
  {
   "cell_type": "code",
   "execution_count": 18,
   "metadata": {},
   "outputs": [
    {
     "data": {
      "text/plain": [
       "(51,)"
      ]
     },
     "execution_count": 18,
     "metadata": {},
     "output_type": "execute_result"
    }
   ],
   "source": [
    "np.shape(hist)"
   ]
  },
  {
   "cell_type": "code",
   "execution_count": null,
   "metadata": {
    "collapsed": true
   },
   "outputs": [],
   "source": []
  }
 ],
 "metadata": {
  "kernelspec": {
   "display_name": "Python 3",
   "language": "python",
   "name": "python3"
  },
  "language_info": {
   "codemirror_mode": {
    "name": "ipython",
    "version": 3
   },
   "file_extension": ".py",
   "mimetype": "text/x-python",
   "name": "python",
   "nbconvert_exporter": "python",
   "pygments_lexer": "ipython3",
   "version": "3.6.3"
  }
 },
 "nbformat": 4,
 "nbformat_minor": 2
}
