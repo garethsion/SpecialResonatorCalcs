{
 "cells": [
  {
   "cell_type": "code",
   "execution_count": 25,
   "metadata": {},
   "outputs": [
    {
     "name": "stdout",
     "output_type": "stream",
     "text": [
      "730000.0\n"
     ]
    }
   ],
   "source": [
    "#!/usr/bin/env python\n",
    "from scipy import constants as sp\n",
    "import os\n",
    "import numpy as np\n",
    "import numpy.matlib\n",
    "import matplotlib.pyplot as plt\n",
    "from process_data import ReadComsol,PostProcData\n",
    "import Plotting\n",
    "\n",
    "# Read data from downloads\n",
    "file_dbx = os.getcwd() + '/data_postprocess/downloads/comsol_datafiles/Bx_fullData.csv'\n",
    "file_dby = os.getcwd() + '/data_postprocess/downloads/comsol_datafiles/By_fullData.csv'\n",
    "\n",
    "rdx = ReadComsol.ReadComsol(file_dbx)\n",
    "rdy = ReadComsol.ReadComsol(file_dby)\n",
    "\n",
    "# Read csv file, and get x,y annd dbx/dby data for each\n",
    "# blocked point in space\n",
    "bx_x,bx_y,bx_z = rdx.read_full_data()\n",
    "by_x,by_y,by_z = rdy.read_full_data()\n",
    "#xax = np.linspace(float(bx_x[0]),float(bx_x[len(bx_x)-1]),len(bx_x))\n",
    "dbx = np.asarray(bx_z).astype(np.float)\n",
    "dby = np.asarray(by_z).astype(np.float)\n",
    "\n",
    "# Calculate the single spin coupling for each site each grid point\n",
    "theta = 0 # Angle the static magnetic field is applied on\n",
    "ang = np.cos(theta)\n",
    "ue = sp.physical_constants[\"Bohr magneton\"][0]\n",
    "g = [*map(lambda x,y: 0.47 * ue * np.sqrt(y**2 + x**2),dbx,dby)]\n",
    "g = np.asarray([x / sp.h for x in g])\n",
    "\n",
    "Q = 1e4\n",
    "k = 7.3e9 / Q\n",
    "print(k)\n",
    "\n",
    "post = PostProcData.PostProcData()\n",
    "purcell = (4*(g**2))/k\n",
    "#purcell = post.purcell_rate(Q,g)\n",
    "\n",
    "# hist, edges = post.spin_density(bx_x,bx_y,g)\n",
    "\n",
    "# # Calculate Purcell enhancement at each grid point\n",
    "# Q = 10000 # Q factor - for now typed in, but will be found from CST calcs ultimately\n",
    "# purcell = post.purcell_rate(Q,g)\n",
    "# print(np.shape(edges))\n",
    "\n",
    "# pdens, pedge = post.purcell_density(bx_x,bx_y,purcell)\n",
    "\n",
    "# plt.plot(pdens,hist)\n",
    "# plt.show()"
   ]
  },
  {
   "cell_type": "code",
   "execution_count": 26,
   "metadata": {},
   "outputs": [
    {
     "data": {
      "image/png": "[encoded data removed]",
      "text/plain": [
       "<matplotlib.figure.Figure at 0x1148de9e8>"
      ]
     },
     "metadata": {},
     "output_type": "display_data"
    }
   ],
   "source": [
    "plt.plot(g,purcell)\n",
    "plt.show()"
   ]
  },
  {
   "cell_type": "code",
   "execution_count": null,
   "metadata": {
    "collapsed": true
   },
   "outputs": [],
   "source": []
  }
 ],
 "metadata": {
  "kernelspec": {
   "display_name": "Python 3",
   "language": "python",
   "name": "python3"
  },
  "language_info": {
   "codemirror_mode": {
    "name": "ipython",
    "version": 3
   },
   "file_extension": ".py",
   "mimetype": "text/x-python",
   "name": "python",
   "nbconvert_exporter": "python",
   "pygments_lexer": "ipython3",
   "version": "3.6.3"
  }
 },
 "nbformat": 4,
 "nbformat_minor": 2
}
